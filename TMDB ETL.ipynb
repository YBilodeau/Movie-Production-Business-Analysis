{
 "cells": [
  {
   "cell_type": "markdown",
   "id": "29a0695b",
   "metadata": {},
   "source": [
    "# **Movie Production Business Analysis - TMDB ETL**"
   ]
  },
  {
   "cell_type": "markdown",
   "id": "ead147dd",
   "metadata": {},
   "source": [
    "- Yvon Bilodeau\n",
    "- May 2022"
   ]
  },
  {
   "cell_type": "markdown",
   "id": "098ec014",
   "metadata": {},
   "source": [
    "## **Business Problem**"
   ]
  },
  {
   "cell_type": "markdown",
   "id": "788be608",
   "metadata": {},
   "source": [
    "After investigating the preview of the data from the IMDB ETL, the stakeholder realized that there is no financial information included in the IMDB data (e.g. budget or revenue).\n",
    "\n",
    "This will be a major roadblock when attempting to analyze which movies are successful and must be addressed before you will be able to determine which movies are successful."
   ]
  },
  {
   "cell_type": "markdown",
   "id": "3e73d389",
   "metadata": {},
   "source": [
    "## **The Data**"
   ]
  },
  {
   "cell_type": "markdown",
   "id": "368da95d",
   "metadata": {},
   "source": [
    "The stakeholder identified **The Movie Database (TMDB)** as a great source of financial data (https://www.themoviedb.org/). \n",
    "\n",
    "### **Specifications - Financial Data**\n"
   ]
  },
  {
   "cell_type": "markdown",
   "id": "5874ee18",
   "metadata": {},
   "source": [
    "- The stakeholder would like the budget, revenue, and MPAA Rating (G/PG/PG-13/R), which is also called \"Certification\", extracted.\n",
    "\n",
    "- The stakeholder would only like results for movies that meet all of the criteria established in the IMDB ETL extracted. \n",
    "\n",
    "- As a proof-of-concept, they requested a test extraction of movies that started in 2000 or 2001. Each year to be saved as a separate .csv.gz file."
   ]
  },
  {
   "cell_type": "markdown",
   "id": "d3066fc0",
   "metadata": {},
   "source": [
    "### **Download**"
   ]
  },
  {
   "cell_type": "code",
   "execution_count": null,
   "id": "5e9665f3",
   "metadata": {},
   "outputs": [],
   "source": [
    "# Create url variables\n",
    "imdb_url = \" \""
   ]
  },
  {
   "cell_type": "markdown",
   "id": "286d6568",
   "metadata": {},
   "source": [
    "### **Preprocessing**"
   ]
  },
  {
   "cell_type": "code",
   "execution_count": null,
   "id": "314e4bd8",
   "metadata": {},
   "outputs": [],
   "source": []
  }
 ],
 "metadata": {
  "kernelspec": {
   "display_name": "Python (dojo-env)",
   "language": "python",
   "name": "dojo-env"
  },
  "language_info": {
   "codemirror_mode": {
    "name": "ipython",
    "version": 3
   },
   "file_extension": ".py",
   "mimetype": "text/x-python",
   "name": "python",
   "nbconvert_exporter": "python",
   "pygments_lexer": "ipython3",
   "version": "3.7.12"
  },
  "toc": {
   "base_numbering": 1,
   "nav_menu": {},
   "number_sections": true,
   "sideBar": true,
   "skip_h1_title": false,
   "title_cell": "Table of Contents",
   "title_sidebar": "Contents",
   "toc_cell": false,
   "toc_position": {},
   "toc_section_display": true,
   "toc_window_display": false
  }
 },
 "nbformat": 4,
 "nbformat_minor": 5
}
