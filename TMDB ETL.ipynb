{
 "cells": [
  {
   "cell_type": "markdown",
   "id": "ba49b178",
   "metadata": {},
   "source": [
    "# **Movie Production Business Analysis - TMDB ETL**"
   ]
  },
  {
   "cell_type": "markdown",
   "id": "f0ac976d",
   "metadata": {},
   "source": [
    "- Yvon Bilodeau\n",
    "- May 2022"
   ]
  },
  {
   "cell_type": "markdown",
   "id": "7df89c44",
   "metadata": {},
   "source": [
    "## **Business Problem**"
   ]
  },
  {
   "cell_type": "markdown",
   "id": "d37dfe27",
   "metadata": {},
   "source": [
    "After investigating the preview of the data from the IMDB ETL, the stakeholder realized that there is no financial information included in the IMDB data (e.g. budget or revenue).\n",
    "\n",
    "This will be a major roadblock when attempting to analyze which movies are successful and must be addressed before you will be able to determine which movies are successful."
   ]
  },
  {
   "cell_type": "markdown",
   "id": "d5778c97",
   "metadata": {},
   "source": [
    "## **The Data**"
   ]
  },
  {
   "cell_type": "markdown",
   "id": "cf15e0c5",
   "metadata": {},
   "source": [
    "The stakeholder identified **The Movie Database (TMDB)** as a great source of financial data (https://www.themoviedb.org/). \n",
    "\n",
    "### **Specifications**\n"
   ]
  },
  {
   "cell_type": "markdown",
   "id": "002c8750",
   "metadata": {},
   "source": [
    "- The stakeholder would like the budget, revenue, and MPAA Rating (G/PG/PG-13/R), which is also called \"Certification\", extracted.\n",
    "\n",
    "- The stakeholder would only like results for movies that meet all of the criteria established in the IMDB ETL extracted. \n",
    "\n",
    "- As a proof-of-concept, they requested a test extraction of movies that started in 2000 or 2001. Each year to be saved as a separate .csv.gz file."
   ]
  },
  {
   "cell_type": "markdown",
   "id": "6edbccd8",
   "metadata": {},
   "source": [
    "## **Import libraries**"
   ]
  },
  {
   "cell_type": "code",
   "execution_count": 1,
   "id": "33fc4f31",
   "metadata": {},
   "outputs": [],
   "source": [
    "# Imports\n",
    "import numpy as np\n",
    "import pandas as pd\n",
    "import matplotlib.pyplot as plt\n",
    "import seaborn as sns\n",
    "\n",
    "import os, json, math, time\n",
    "import tmdbsimple as tmdb\n",
    "from tqdm.notebook import tqdm_notebook"
   ]
  },
  {
   "cell_type": "markdown",
   "id": "b9fc57d3",
   "metadata": {},
   "source": [
    "## **API Credentials**"
   ]
  },
  {
   "cell_type": "code",
   "execution_count": 2,
   "id": "9225bd4a",
   "metadata": {},
   "outputs": [],
   "source": [
    "# Load API Credentials\n",
    "with open('C:/Users/DELL/.secret/tmdb_api.json') as f: \n",
    "    login = json.load(f)"
   ]
  },
  {
   "cell_type": "code",
   "execution_count": 3,
   "id": "66f3bfdd",
   "metadata": {},
   "outputs": [
    {
     "data": {
      "text/plain": [
       "dict_keys(['client-id', 'api-key'])"
      ]
     },
     "execution_count": 3,
     "metadata": {},
     "output_type": "execute_result"
    }
   ],
   "source": [
    "## Display the keys of the loaded dict\n",
    "login.keys()"
   ]
  },
  {
   "cell_type": "code",
   "execution_count": 4,
   "id": "3a785848",
   "metadata": {
    "scrolled": true
   },
   "outputs": [],
   "source": [
    "# Set the API_KEY variable to the \"API Key(v3 auth)\"\n",
    "tmdb.API_KEY =  login['api-key']"
   ]
  },
  {
   "cell_type": "markdown",
   "id": "c384a46f",
   "metadata": {},
   "source": [
    " ## **Test API call**"
   ]
  },
  {
   "cell_type": "code",
   "execution_count": 5,
   "id": "5aa21ce5",
   "metadata": {},
   "outputs": [],
   "source": [
    "# Create a movie object using the .Movies function from tmdb\n",
    "movie = tmdb.Movies(603)"
   ]
  },
  {
   "cell_type": "code",
   "execution_count": 6,
   "id": "9f895e9b",
   "metadata": {},
   "outputs": [
    {
     "data": {
      "text/plain": [
       "{'adult': False,\n",
       " 'backdrop_path': '/ncEsesgOJDNrTUED89hYbA117wo.jpg',\n",
       " 'belongs_to_collection': {'id': 2344,\n",
       "  'name': 'The Matrix Collection',\n",
       "  'poster_path': '/bV9qTVHTVf0gkW0j7p7M0ILD4pG.jpg',\n",
       "  'backdrop_path': '/bRm2DEgUiYciDw3myHuYFInD7la.jpg'},\n",
       " 'budget': 63000000,\n",
       " 'genres': [{'id': 28, 'name': 'Action'},\n",
       "  {'id': 878, 'name': 'Science Fiction'}],\n",
       " 'homepage': 'http://www.warnerbros.com/matrix',\n",
       " 'id': 603,\n",
       " 'imdb_id': 'tt0133093',\n",
       " 'original_language': 'en',\n",
       " 'original_title': 'The Matrix',\n",
       " 'overview': 'Set in the 22nd century, The Matrix tells the story of a computer hacker who joins a group of underground insurgents fighting the vast and powerful computers who now rule the earth.',\n",
       " 'popularity': 79.309,\n",
       " 'poster_path': '/f89U3ADr1oiB1s9GkdPOEpXUk5H.jpg',\n",
       " 'production_companies': [{'id': 79,\n",
       "   'logo_path': '/tpFpsqbleCzEE2p5EgvUq6ozfCA.png',\n",
       "   'name': 'Village Roadshow Pictures',\n",
       "   'origin_country': 'US'},\n",
       "  {'id': 372,\n",
       "   'logo_path': None,\n",
       "   'name': 'Groucho II Film Partnership',\n",
       "   'origin_country': ''},\n",
       "  {'id': 1885,\n",
       "   'logo_path': '/xlvoOZr4s1PygosrwZyolIFe5xs.png',\n",
       "   'name': 'Silver Pictures',\n",
       "   'origin_country': 'US'},\n",
       "  {'id': 174,\n",
       "   'logo_path': '/IuAlhI9eVC9Z8UQWOIDdWRKSEJ.png',\n",
       "   'name': 'Warner Bros. Pictures',\n",
       "   'origin_country': 'US'}],\n",
       " 'production_countries': [{'iso_3166_1': 'US',\n",
       "   'name': 'United States of America'}],\n",
       " 'release_date': '1999-03-30',\n",
       " 'revenue': 463517383,\n",
       " 'runtime': 136,\n",
       " 'spoken_languages': [{'english_name': 'English',\n",
       "   'iso_639_1': 'en',\n",
       "   'name': 'English'}],\n",
       " 'status': 'Released',\n",
       " 'tagline': 'Welcome to the Real World.',\n",
       " 'title': 'The Matrix',\n",
       " 'video': False,\n",
       " 'vote_average': 8.2,\n",
       " 'vote_count': 21455}"
      ]
     },
     "execution_count": 6,
     "metadata": {},
     "output_type": "execute_result"
    }
   ],
   "source": [
    "# Display the .info dictionary of the movie object\n",
    "info = movie.info()\n",
    "info"
   ]
  },
  {
   "cell_type": "markdown",
   "id": "e8abc92a",
   "metadata": {},
   "source": [
    "- Budget and revenue are included in the .info(). However, it does not include the certification.  "
   ]
  },
  {
   "cell_type": "code",
   "execution_count": 7,
   "id": "306a2c8f",
   "metadata": {},
   "outputs": [
    {
     "data": {
      "text/plain": [
       "63000000"
      ]
     },
     "execution_count": 7,
     "metadata": {},
     "output_type": "execute_result"
    }
   ],
   "source": [
    "info['budget']"
   ]
  },
  {
   "cell_type": "code",
   "execution_count": 8,
   "id": "f3813c5a",
   "metadata": {},
   "outputs": [
    {
     "data": {
      "text/plain": [
       "463517383"
      ]
     },
     "execution_count": 8,
     "metadata": {},
     "output_type": "execute_result"
    }
   ],
   "source": [
    "info['revenue']"
   ]
  },
  {
   "cell_type": "code",
   "execution_count": 9,
   "id": "bd0b080b",
   "metadata": {},
   "outputs": [
    {
     "data": {
      "text/plain": [
       "'tt0133093'"
      ]
     },
     "execution_count": 9,
     "metadata": {},
     "output_type": "execute_result"
    }
   ],
   "source": [
    "info['imdb_id']"
   ]
  },
  {
   "cell_type": "code",
   "execution_count": 10,
   "id": "3fe1255d",
   "metadata": {},
   "outputs": [
    {
     "data": {
      "text/plain": [
       "50000000"
      ]
     },
     "execution_count": 10,
     "metadata": {},
     "output_type": "execute_result"
    }
   ],
   "source": [
    "# Test search\n",
    "movie = tmdb.Movies('tt1361336')\n",
    "info = movie.info()\n",
    "info['budget']"
   ]
  },
  {
   "cell_type": "code",
   "execution_count": 11,
   "id": "b66f3a08",
   "metadata": {},
   "outputs": [
    {
     "name": "stdout",
     "output_type": "stream",
     "text": [
      "PG\n",
      "PG\n",
      "PG\n"
     ]
    }
   ],
   "source": [
    "# example from package README - the rating of the movie if it is in the US\n",
    "response = movie.releases()\n",
    "for c in movie.countries:\n",
    "    if c['iso_3166_1'] == 'US':\n",
    "        print(c['certification'])"
   ]
  },
  {
   "cell_type": "markdown",
   "id": "9f379034",
   "metadata": {},
   "source": [
    "## **API Call Preparation**"
   ]
  },
  {
   "cell_type": "markdown",
   "id": "aea4b1ec",
   "metadata": {},
   "source": [
    " ### **Data Folder**"
   ]
  },
  {
   "cell_type": "code",
   "execution_count": 12,
   "id": "cbad06fb",
   "metadata": {
    "scrolled": false
   },
   "outputs": [
    {
     "data": {
      "text/plain": [
       "['.ipynb_checkpoints',\n",
       " 'title_akas.csv.gz',\n",
       " 'title_basics.csv.gz',\n",
       " 'title_ratings.csv.gz']"
      ]
     },
     "execution_count": 12,
     "metadata": {},
     "output_type": "execute_result"
    }
   ],
   "source": [
    "# Create a data folder to save API call data if it doesn't exist\n",
    "FOLDER = \"Data/\"\n",
    "os.makedirs(FOLDER, exist_ok=True)\n",
    "os.listdir(FOLDER)"
   ]
  },
  {
   "cell_type": "markdown",
   "id": "944c5b91",
   "metadata": {},
   "source": [
    "### **Define the years to retrieve**"
   ]
  },
  {
   "cell_type": "code",
   "execution_count": 13,
   "id": "2b87b995",
   "metadata": {},
   "outputs": [],
   "source": [
    "YEARS_TO_GET = [2000,2001]"
   ]
  },
  {
   "cell_type": "markdown",
   "id": "27be3ed7",
   "metadata": {},
   "source": [
    "### **Custom Functions**"
   ]
  },
  {
   "cell_type": "markdown",
   "id": "70c83d75",
   "metadata": {},
   "source": [
    "#### **Movie Rating Function**"
   ]
  },
  {
   "cell_type": "code",
   "execution_count": 14,
   "id": "92b9358f",
   "metadata": {},
   "outputs": [],
   "source": [
    "# Function to obtain movie rating\n",
    "def get_movie_with_rating(movie_id):\n",
    "    # Get movie and release dates\n",
    "    movie = tmdb.Movies(movie_id)\n",
    "    # Construct output dictionary\n",
    "    movie_info = movie.info()\n",
    "    releases = movie.releases()\n",
    "    for c in releases['countries']:\n",
    "        if c['iso_3166_1'] == 'US':\n",
    "            movie_info['certification'] = c['certification']\n",
    "    return movie_info"
   ]
  },
  {
   "cell_type": "markdown",
   "id": "b76b7dd4",
   "metadata": {},
   "source": [
    "#### **Append Results to JSON Function**"
   ]
  },
  {
   "cell_type": "code",
   "execution_count": 15,
   "id": "c40e3358",
   "metadata": {},
   "outputs": [],
   "source": [
    "# append new results to the existing JSON file\n",
    "# Adapted from: \n",
    "# https://www.geeksforgeeks.org/append-to-json-file-using-python/   \n",
    "\n",
    "def write_json(new_data, filename): \n",
    "    with open(filename,'r+') as file:\n",
    "        # First we load existing data into a dict.\n",
    "        file_data = json.load(file)\n",
    "        ## Choose extend or append\n",
    "        if (type(new_data) == list) & (type(file_data) == list):\n",
    "            file_data.extend(new_data)\n",
    "        else:\n",
    "             file_data.append(new_data)\n",
    "        # Sets file's current position at offset.\n",
    "        file.seek(0)\n",
    "        # convert back to json.\n",
    "        json.dump(file_data, file)"
   ]
  },
  {
   "cell_type": "markdown",
   "id": "d63ab7db",
   "metadata": {},
   "source": [
    "## **API Call Loop**"
   ]
  },
  {
   "cell_type": "code",
   "execution_count": 21,
   "id": "e9e75e99",
   "metadata": {
    "scrolled": true
   },
   "outputs": [
    {
     "data": {
      "application/vnd.jupyter.widget-view+json": {
       "model_id": "ce032a8eeaa143229c543b3010817643",
       "version_major": 2,
       "version_minor": 0
      },
      "text/plain": [
       "YEARS:   0%|          | 0/2 [00:00<?, ?it/s]"
      ]
     },
     "metadata": {},
     "output_type": "display_data"
    },
    {
     "data": {
      "application/vnd.jupyter.widget-view+json": {
       "model_id": "49ae2b0c4a1847e3ab198d1ea8be3811",
       "version_major": 2,
       "version_minor": 0
      },
      "text/plain": [
       "Movies from 2000:   0%|          | 0/1403 [00:00<?, ?it/s]"
      ]
     },
     "metadata": {},
     "output_type": "display_data"
    },
    {
     "data": {
      "application/vnd.jupyter.widget-view+json": {
       "model_id": "779ba0d63de74f97baa582e84e7e33c6",
       "version_major": 2,
       "version_minor": 0
      },
      "text/plain": [
       "Movies from 2001:   0%|          | 0/1517 [00:00<?, ?it/s]"
      ]
     },
     "metadata": {},
     "output_type": "display_data"
    }
   ],
   "source": [
    "# Start of OUTER loop\n",
    "for YEAR in tqdm_notebook(YEARS_TO_GET,desc='YEARS',position=0):\n",
    "    #Defining the JSON file to store results for year\n",
    "    JSON_FILE = f'{FOLDER}tmdb_api_results_{YEAR}.json'\n",
    "    \n",
    "    # Check if file exists\n",
    "    file_exists = os.path.isfile(JSON_FILE)\n",
    "    # If it does not exist: create it\n",
    "    if file_exists == False:\n",
    "    # save an empty dict with just \"imdb_id\" to the new json file.\n",
    "        with open(JSON_FILE,'w') as f:\n",
    "            json.dump([{'imdb_id':0}],f)\n",
    "            \n",
    "    # Load in the dataframe from project part 1 as basics:\n",
    "    basics = pd.read_csv(\"Data/title_basics.csv.gz\")\n",
    "    \n",
    "    #Saving new year as the current df\n",
    "    df = basics.loc[ basics['startYear']==YEAR].copy()\n",
    "    \n",
    "    # saving movie ids to list\n",
    "    movie_ids = df['tconst'].copy()#.to_list()\n",
    "    \n",
    "    # Load existing data from json into a dataframe called \"previous_df\"\n",
    "    previous_df = pd.read_json(JSON_FILE)\n",
    "    \n",
    "    # filter out any ids that are already in the JSON_FILE\n",
    "    movie_ids_to_get = movie_ids[~movie_ids.isin(previous_df['imdb_id'])]\n",
    "\n",
    "# INNER Loop\n",
    "    # Get index and movie id from list\n",
    "    for movie_id in tqdm_notebook(movie_ids_to_get,\n",
    "                                  desc=f'Movies from {YEAR}',\n",
    "                                  position=1,\n",
    "                                  leave=True):\n",
    "        # Attempt to retrieve then data for the movie id\n",
    "        try:\n",
    "            temp = get_movie_with_rating(movie_id)  #This uses your pre-made function\n",
    "            # Append/extend results to existing file using a pre-made function\n",
    "            write_json(temp,JSON_FILE)\n",
    "            # Short 20 ms sleep to prevent overwhelming server\n",
    "            time.sleep(0.02)\n",
    "            \n",
    "        # If it fails,  make a dict with just the id and None for certification.\n",
    "        except Exception as e:\n",
    "            continue"
   ]
  },
  {
   "cell_type": "markdown",
   "id": "86038188",
   "metadata": {},
   "source": [
    "## **Save the year's results as csv.gz file**"
   ]
  },
  {
   "cell_type": "code",
   "execution_count": 22,
   "id": "a65e457d",
   "metadata": {},
   "outputs": [],
   "source": [
    "final_year_df = pd.read_json(JSON_FILE)\n",
    "final_year_df.to_csv(f\"{FOLDER}final_tmdb_data_{YEAR}.csv.gz\", \n",
    "                     compression=\"gzip\", \n",
    "                     index=False)"
   ]
  },
  {
   "cell_type": "code",
   "execution_count": 23,
   "id": "9766ae9c",
   "metadata": {},
   "outputs": [
    {
     "data": {
      "text/html": [
       "<div>\n",
       "<style scoped>\n",
       "    .dataframe tbody tr th:only-of-type {\n",
       "        vertical-align: middle;\n",
       "    }\n",
       "\n",
       "    .dataframe tbody tr th {\n",
       "        vertical-align: top;\n",
       "    }\n",
       "\n",
       "    .dataframe thead th {\n",
       "        text-align: right;\n",
       "    }\n",
       "</style>\n",
       "<table border=\"1\" class=\"dataframe\">\n",
       "  <thead>\n",
       "    <tr style=\"text-align: right;\">\n",
       "      <th></th>\n",
       "      <th>imdb_id</th>\n",
       "      <th>adult</th>\n",
       "      <th>backdrop_path</th>\n",
       "      <th>belongs_to_collection</th>\n",
       "      <th>budget</th>\n",
       "      <th>genres</th>\n",
       "      <th>homepage</th>\n",
       "      <th>id</th>\n",
       "      <th>original_language</th>\n",
       "      <th>original_title</th>\n",
       "      <th>...</th>\n",
       "      <th>revenue</th>\n",
       "      <th>runtime</th>\n",
       "      <th>spoken_languages</th>\n",
       "      <th>status</th>\n",
       "      <th>tagline</th>\n",
       "      <th>title</th>\n",
       "      <th>video</th>\n",
       "      <th>vote_average</th>\n",
       "      <th>vote_count</th>\n",
       "      <th>certification</th>\n",
       "    </tr>\n",
       "  </thead>\n",
       "  <tbody>\n",
       "    <tr>\n",
       "      <th>0</th>\n",
       "      <td>0</td>\n",
       "      <td>NaN</td>\n",
       "      <td>NaN</td>\n",
       "      <td>NaN</td>\n",
       "      <td>NaN</td>\n",
       "      <td>NaN</td>\n",
       "      <td>NaN</td>\n",
       "      <td>NaN</td>\n",
       "      <td>NaN</td>\n",
       "      <td>NaN</td>\n",
       "      <td>...</td>\n",
       "      <td>NaN</td>\n",
       "      <td>NaN</td>\n",
       "      <td>NaN</td>\n",
       "      <td>NaN</td>\n",
       "      <td>NaN</td>\n",
       "      <td>NaN</td>\n",
       "      <td>NaN</td>\n",
       "      <td>NaN</td>\n",
       "      <td>NaN</td>\n",
       "      <td>NaN</td>\n",
       "    </tr>\n",
       "    <tr>\n",
       "      <th>1</th>\n",
       "      <td>tt0035423</td>\n",
       "      <td>0.0</td>\n",
       "      <td>/hfeiSfWYujh6MKhtGTXyK3DD4nN.jpg</td>\n",
       "      <td>None</td>\n",
       "      <td>48000000.0</td>\n",
       "      <td>[{'id': 35, 'name': 'Comedy'}, {'id': 14, 'nam...</td>\n",
       "      <td></td>\n",
       "      <td>11232.0</td>\n",
       "      <td>en</td>\n",
       "      <td>Kate &amp; Leopold</td>\n",
       "      <td>...</td>\n",
       "      <td>76019048.0</td>\n",
       "      <td>118.0</td>\n",
       "      <td>[{'english_name': 'English', 'iso_639_1': 'en'...</td>\n",
       "      <td>Released</td>\n",
       "      <td>If they lived in the same century they'd be pe...</td>\n",
       "      <td>Kate &amp; Leopold</td>\n",
       "      <td>0.0</td>\n",
       "      <td>6.3</td>\n",
       "      <td>1103.0</td>\n",
       "      <td>PG-13</td>\n",
       "    </tr>\n",
       "    <tr>\n",
       "      <th>2</th>\n",
       "      <td>tt0114447</td>\n",
       "      <td>0.0</td>\n",
       "      <td>None</td>\n",
       "      <td>None</td>\n",
       "      <td>0.0</td>\n",
       "      <td>[{'id': 53, 'name': 'Thriller'}, {'id': 28, 'n...</td>\n",
       "      <td></td>\n",
       "      <td>151007.0</td>\n",
       "      <td>en</td>\n",
       "      <td>The Silent Force</td>\n",
       "      <td>...</td>\n",
       "      <td>0.0</td>\n",
       "      <td>90.0</td>\n",
       "      <td>[{'english_name': 'English', 'iso_639_1': 'en'...</td>\n",
       "      <td>Released</td>\n",
       "      <td>They left him for dead... They should have fin...</td>\n",
       "      <td>The Silent Force</td>\n",
       "      <td>0.0</td>\n",
       "      <td>5.0</td>\n",
       "      <td>3.0</td>\n",
       "      <td>NaN</td>\n",
       "    </tr>\n",
       "    <tr>\n",
       "      <th>3</th>\n",
       "      <td>tt0118589</td>\n",
       "      <td>0.0</td>\n",
       "      <td>/bLntSfsqUheiUirdV9Ts8znqsTM.jpg</td>\n",
       "      <td>None</td>\n",
       "      <td>22000000.0</td>\n",
       "      <td>[{'id': 18, 'name': 'Drama'}, {'id': 10749, 'n...</td>\n",
       "      <td></td>\n",
       "      <td>10696.0</td>\n",
       "      <td>en</td>\n",
       "      <td>Glitter</td>\n",
       "      <td>...</td>\n",
       "      <td>5271666.0</td>\n",
       "      <td>104.0</td>\n",
       "      <td>[{'english_name': 'English', 'iso_639_1': 'en'...</td>\n",
       "      <td>Released</td>\n",
       "      <td>In music she found her dream, her love, herself.</td>\n",
       "      <td>Glitter</td>\n",
       "      <td>0.0</td>\n",
       "      <td>4.6</td>\n",
       "      <td>115.0</td>\n",
       "      <td>PG-13</td>\n",
       "    </tr>\n",
       "    <tr>\n",
       "      <th>4</th>\n",
       "      <td>tt0118652</td>\n",
       "      <td>0.0</td>\n",
       "      <td>/mWxJEFRMvkG4UItYJkRDMgWQ08Y.jpg</td>\n",
       "      <td>None</td>\n",
       "      <td>1000000.0</td>\n",
       "      <td>[{'id': 9648, 'name': 'Mystery'}, {'id': 27, '...</td>\n",
       "      <td></td>\n",
       "      <td>17140.0</td>\n",
       "      <td>en</td>\n",
       "      <td>The Attic Expeditions</td>\n",
       "      <td>...</td>\n",
       "      <td>0.0</td>\n",
       "      <td>100.0</td>\n",
       "      <td>[{'english_name': 'English', 'iso_639_1': 'en'...</td>\n",
       "      <td>Released</td>\n",
       "      <td>His search for peace of mind... will leave his...</td>\n",
       "      <td>The Attic Expeditions</td>\n",
       "      <td>0.0</td>\n",
       "      <td>5.0</td>\n",
       "      <td>27.0</td>\n",
       "      <td>R</td>\n",
       "    </tr>\n",
       "    <tr>\n",
       "      <th>...</th>\n",
       "      <td>...</td>\n",
       "      <td>...</td>\n",
       "      <td>...</td>\n",
       "      <td>...</td>\n",
       "      <td>...</td>\n",
       "      <td>...</td>\n",
       "      <td>...</td>\n",
       "      <td>...</td>\n",
       "      <td>...</td>\n",
       "      <td>...</td>\n",
       "      <td>...</td>\n",
       "      <td>...</td>\n",
       "      <td>...</td>\n",
       "      <td>...</td>\n",
       "      <td>...</td>\n",
       "      <td>...</td>\n",
       "      <td>...</td>\n",
       "      <td>...</td>\n",
       "      <td>...</td>\n",
       "      <td>...</td>\n",
       "      <td>...</td>\n",
       "    </tr>\n",
       "    <tr>\n",
       "      <th>1272</th>\n",
       "      <td>tt7797670</td>\n",
       "      <td>0.0</td>\n",
       "      <td>None</td>\n",
       "      <td>None</td>\n",
       "      <td>0.0</td>\n",
       "      <td>[{'id': 27, 'name': 'Horror'}]</td>\n",
       "      <td></td>\n",
       "      <td>956214.0</td>\n",
       "      <td>en</td>\n",
       "      <td>Edmund Kemper Part 2: La Mort C'est La Vie</td>\n",
       "      <td>...</td>\n",
       "      <td>0.0</td>\n",
       "      <td>91.0</td>\n",
       "      <td>[]</td>\n",
       "      <td>Released</td>\n",
       "      <td></td>\n",
       "      <td>Edmund Kemper Part 2: La Mort C'est La Vie</td>\n",
       "      <td>0.0</td>\n",
       "      <td>0.0</td>\n",
       "      <td>0.0</td>\n",
       "      <td>NaN</td>\n",
       "    </tr>\n",
       "    <tr>\n",
       "      <th>1273</th>\n",
       "      <td>tt7797790</td>\n",
       "      <td>0.0</td>\n",
       "      <td>None</td>\n",
       "      <td>None</td>\n",
       "      <td>0.0</td>\n",
       "      <td>[{'id': 27, 'name': 'Horror'}]</td>\n",
       "      <td></td>\n",
       "      <td>956219.0</td>\n",
       "      <td>en</td>\n",
       "      <td>Edmund Kemper Part 3: La mort sévit</td>\n",
       "      <td>...</td>\n",
       "      <td>0.0</td>\n",
       "      <td>72.0</td>\n",
       "      <td>[{'english_name': 'French', 'iso_639_1': 'fr',...</td>\n",
       "      <td>Released</td>\n",
       "      <td></td>\n",
       "      <td>Edmund Kemper Part 3: La mort sévit</td>\n",
       "      <td>0.0</td>\n",
       "      <td>0.0</td>\n",
       "      <td>0.0</td>\n",
       "      <td>NaN</td>\n",
       "    </tr>\n",
       "    <tr>\n",
       "      <th>1274</th>\n",
       "      <td>tt8665056</td>\n",
       "      <td>0.0</td>\n",
       "      <td>None</td>\n",
       "      <td>None</td>\n",
       "      <td>0.0</td>\n",
       "      <td>[{'id': 37, 'name': 'Western'}]</td>\n",
       "      <td>http://skeletoncreekproductions.com/p-movie-br...</td>\n",
       "      <td>885436.0</td>\n",
       "      <td>en</td>\n",
       "      <td>Guns Along The Bravo</td>\n",
       "      <td>...</td>\n",
       "      <td>0.0</td>\n",
       "      <td>85.0</td>\n",
       "      <td>[]</td>\n",
       "      <td>Released</td>\n",
       "      <td>Evil came to the Southwest until three blazing...</td>\n",
       "      <td>Guns Along The Bravo</td>\n",
       "      <td>0.0</td>\n",
       "      <td>0.0</td>\n",
       "      <td>0.0</td>\n",
       "      <td></td>\n",
       "    </tr>\n",
       "    <tr>\n",
       "      <th>1275</th>\n",
       "      <td>tt8795764</td>\n",
       "      <td>0.0</td>\n",
       "      <td>None</td>\n",
       "      <td>None</td>\n",
       "      <td>0.0</td>\n",
       "      <td>[{'id': 27, 'name': 'Horror'}]</td>\n",
       "      <td>https://www.utahwolf.com/films/coming-soon-new...</td>\n",
       "      <td>871624.0</td>\n",
       "      <td>en</td>\n",
       "      <td>New Breed</td>\n",
       "      <td>...</td>\n",
       "      <td>0.0</td>\n",
       "      <td>57.0</td>\n",
       "      <td>[{'english_name': 'English', 'iso_639_1': 'en'...</td>\n",
       "      <td>Released</td>\n",
       "      <td></td>\n",
       "      <td>New Breed</td>\n",
       "      <td>0.0</td>\n",
       "      <td>0.0</td>\n",
       "      <td>0.0</td>\n",
       "      <td>NR</td>\n",
       "    </tr>\n",
       "    <tr>\n",
       "      <th>1276</th>\n",
       "      <td>tt9071078</td>\n",
       "      <td>0.0</td>\n",
       "      <td>None</td>\n",
       "      <td>None</td>\n",
       "      <td>0.0</td>\n",
       "      <td>[{'id': 28, 'name': 'Action'}]</td>\n",
       "      <td>http://www.hkcinemagic.com/en/movie.asp?id=6627</td>\n",
       "      <td>201706.0</td>\n",
       "      <td>cn</td>\n",
       "      <td>致命密函</td>\n",
       "      <td>...</td>\n",
       "      <td>0.0</td>\n",
       "      <td>90.0</td>\n",
       "      <td>[{'english_name': 'Cantonese', 'iso_639_1': 'c...</td>\n",
       "      <td>Released</td>\n",
       "      <td></td>\n",
       "      <td>Chinese Heroes</td>\n",
       "      <td>0.0</td>\n",
       "      <td>3.0</td>\n",
       "      <td>2.0</td>\n",
       "      <td>NaN</td>\n",
       "    </tr>\n",
       "  </tbody>\n",
       "</table>\n",
       "<p>1277 rows × 26 columns</p>\n",
       "</div>"
      ],
      "text/plain": [
       "        imdb_id  adult                     backdrop_path  \\\n",
       "0             0    NaN                               NaN   \n",
       "1     tt0035423    0.0  /hfeiSfWYujh6MKhtGTXyK3DD4nN.jpg   \n",
       "2     tt0114447    0.0                              None   \n",
       "3     tt0118589    0.0  /bLntSfsqUheiUirdV9Ts8znqsTM.jpg   \n",
       "4     tt0118652    0.0  /mWxJEFRMvkG4UItYJkRDMgWQ08Y.jpg   \n",
       "...         ...    ...                               ...   \n",
       "1272  tt7797670    0.0                              None   \n",
       "1273  tt7797790    0.0                              None   \n",
       "1274  tt8665056    0.0                              None   \n",
       "1275  tt8795764    0.0                              None   \n",
       "1276  tt9071078    0.0                              None   \n",
       "\n",
       "     belongs_to_collection      budget  \\\n",
       "0                      NaN         NaN   \n",
       "1                     None  48000000.0   \n",
       "2                     None         0.0   \n",
       "3                     None  22000000.0   \n",
       "4                     None   1000000.0   \n",
       "...                    ...         ...   \n",
       "1272                  None         0.0   \n",
       "1273                  None         0.0   \n",
       "1274                  None         0.0   \n",
       "1275                  None         0.0   \n",
       "1276                  None         0.0   \n",
       "\n",
       "                                                 genres  \\\n",
       "0                                                   NaN   \n",
       "1     [{'id': 35, 'name': 'Comedy'}, {'id': 14, 'nam...   \n",
       "2     [{'id': 53, 'name': 'Thriller'}, {'id': 28, 'n...   \n",
       "3     [{'id': 18, 'name': 'Drama'}, {'id': 10749, 'n...   \n",
       "4     [{'id': 9648, 'name': 'Mystery'}, {'id': 27, '...   \n",
       "...                                                 ...   \n",
       "1272                     [{'id': 27, 'name': 'Horror'}]   \n",
       "1273                     [{'id': 27, 'name': 'Horror'}]   \n",
       "1274                    [{'id': 37, 'name': 'Western'}]   \n",
       "1275                     [{'id': 27, 'name': 'Horror'}]   \n",
       "1276                     [{'id': 28, 'name': 'Action'}]   \n",
       "\n",
       "                                               homepage        id  \\\n",
       "0                                                   NaN       NaN   \n",
       "1                                                         11232.0   \n",
       "2                                                        151007.0   \n",
       "3                                                         10696.0   \n",
       "4                                                         17140.0   \n",
       "...                                                 ...       ...   \n",
       "1272                                                     956214.0   \n",
       "1273                                                     956219.0   \n",
       "1274  http://skeletoncreekproductions.com/p-movie-br...  885436.0   \n",
       "1275  https://www.utahwolf.com/films/coming-soon-new...  871624.0   \n",
       "1276    http://www.hkcinemagic.com/en/movie.asp?id=6627  201706.0   \n",
       "\n",
       "     original_language                              original_title  ...  \\\n",
       "0                  NaN                                         NaN  ...   \n",
       "1                   en                              Kate & Leopold  ...   \n",
       "2                   en                            The Silent Force  ...   \n",
       "3                   en                                     Glitter  ...   \n",
       "4                   en                       The Attic Expeditions  ...   \n",
       "...                ...                                         ...  ...   \n",
       "1272                en  Edmund Kemper Part 2: La Mort C'est La Vie  ...   \n",
       "1273                en         Edmund Kemper Part 3: La mort sévit  ...   \n",
       "1274                en                        Guns Along The Bravo  ...   \n",
       "1275                en                                   New Breed  ...   \n",
       "1276                cn                                        致命密函  ...   \n",
       "\n",
       "         revenue  runtime                                   spoken_languages  \\\n",
       "0            NaN      NaN                                                NaN   \n",
       "1     76019048.0    118.0  [{'english_name': 'English', 'iso_639_1': 'en'...   \n",
       "2            0.0     90.0  [{'english_name': 'English', 'iso_639_1': 'en'...   \n",
       "3      5271666.0    104.0  [{'english_name': 'English', 'iso_639_1': 'en'...   \n",
       "4            0.0    100.0  [{'english_name': 'English', 'iso_639_1': 'en'...   \n",
       "...          ...      ...                                                ...   \n",
       "1272         0.0     91.0                                                 []   \n",
       "1273         0.0     72.0  [{'english_name': 'French', 'iso_639_1': 'fr',...   \n",
       "1274         0.0     85.0                                                 []   \n",
       "1275         0.0     57.0  [{'english_name': 'English', 'iso_639_1': 'en'...   \n",
       "1276         0.0     90.0  [{'english_name': 'Cantonese', 'iso_639_1': 'c...   \n",
       "\n",
       "        status                                            tagline  \\\n",
       "0          NaN                                                NaN   \n",
       "1     Released  If they lived in the same century they'd be pe...   \n",
       "2     Released  They left him for dead... They should have fin...   \n",
       "3     Released   In music she found her dream, her love, herself.   \n",
       "4     Released  His search for peace of mind... will leave his...   \n",
       "...        ...                                                ...   \n",
       "1272  Released                                                      \n",
       "1273  Released                                                      \n",
       "1274  Released  Evil came to the Southwest until three blazing...   \n",
       "1275  Released                                                      \n",
       "1276  Released                                                      \n",
       "\n",
       "                                           title  video  vote_average  \\\n",
       "0                                            NaN    NaN           NaN   \n",
       "1                                 Kate & Leopold    0.0           6.3   \n",
       "2                               The Silent Force    0.0           5.0   \n",
       "3                                        Glitter    0.0           4.6   \n",
       "4                          The Attic Expeditions    0.0           5.0   \n",
       "...                                          ...    ...           ...   \n",
       "1272  Edmund Kemper Part 2: La Mort C'est La Vie    0.0           0.0   \n",
       "1273         Edmund Kemper Part 3: La mort sévit    0.0           0.0   \n",
       "1274                        Guns Along The Bravo    0.0           0.0   \n",
       "1275                                   New Breed    0.0           0.0   \n",
       "1276                              Chinese Heroes    0.0           3.0   \n",
       "\n",
       "     vote_count certification  \n",
       "0           NaN           NaN  \n",
       "1        1103.0         PG-13  \n",
       "2           3.0           NaN  \n",
       "3         115.0         PG-13  \n",
       "4          27.0             R  \n",
       "...         ...           ...  \n",
       "1272        0.0           NaN  \n",
       "1273        0.0           NaN  \n",
       "1274        0.0                \n",
       "1275        0.0            NR  \n",
       "1276        2.0           NaN  \n",
       "\n",
       "[1277 rows x 26 columns]"
      ]
     },
     "execution_count": 23,
     "metadata": {},
     "output_type": "execute_result"
    }
   ],
   "source": [
    "final_year_df"
   ]
  },
  {
   "cell_type": "code",
   "execution_count": null,
   "id": "7c976ee0",
   "metadata": {},
   "outputs": [],
   "source": []
  }
 ],
 "metadata": {
  "kernelspec": {
   "display_name": "Python (dojo-env)",
   "language": "python",
   "name": "dojo-env"
  },
  "language_info": {
   "codemirror_mode": {
    "name": "ipython",
    "version": 3
   },
   "file_extension": ".py",
   "mimetype": "text/x-python",
   "name": "python",
   "nbconvert_exporter": "python",
   "pygments_lexer": "ipython3",
   "version": "3.7.12"
  },
  "toc": {
   "base_numbering": 1,
   "nav_menu": {},
   "number_sections": true,
   "sideBar": true,
   "skip_h1_title": false,
   "title_cell": "Table of Contents",
   "title_sidebar": "Contents",
   "toc_cell": false,
   "toc_position": {
    "height": "calc(100% - 180px)",
    "left": "10px",
    "top": "150px",
    "width": "221.188px"
   },
   "toc_section_display": true,
   "toc_window_display": true
  }
 },
 "nbformat": 4,
 "nbformat_minor": 5
}
