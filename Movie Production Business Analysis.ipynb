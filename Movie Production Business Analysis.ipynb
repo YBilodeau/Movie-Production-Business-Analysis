{
 "cells": [
  {
   "cell_type": "markdown",
   "id": "6ab0085e",
   "metadata": {},
   "source": [
    "# **Movie Production Business Analysis**"
   ]
  },
  {
   "cell_type": "markdown",
   "id": "73059b3f",
   "metadata": {},
   "source": [
    "- Yvon Bilodeau\n",
    "- May 2022"
   ]
  },
  {
   "cell_type": "markdown",
   "id": "d2be7bb1",
   "metadata": {},
   "source": [
    "## **Business Problem**"
   ]
  },
  {
   "cell_type": "markdown",
   "id": "8374eadf",
   "metadata": {},
   "source": [
    "For this project, I have been hired to produce a MySQL database on Movies from a subset of IMDB's publicly available dataset. Ultimately, you will use this database to analyze what makes a movie successful and will provide recommendations to the stakeholder on how to make a successful movie."
   ]
  },
  {
   "cell_type": "markdown",
   "id": "4e25fcf1",
   "metadata": {},
   "source": [
    "## **Phase 1**"
   ]
  },
  {
   "cell_type": "markdown",
   "id": "97627475",
   "metadata": {},
   "source": [
    "For Part 1 of the project, I will be creating a project repository, loading the official IMDB data for the requested tables, filtering out unnecessary data, and saving the filtered tables as gzip-compressed csv files (\".csv.gz\") in the repository."
   ]
  },
  {
   "cell_type": "markdown",
   "id": "776ad713",
   "metadata": {},
   "source": [
    "### **The Data**"
   ]
  },
  {
   "cell_type": "markdown",
   "id": "12437012",
   "metadata": {},
   "source": [
    "IMDB Provides Several Files with varied information for Movies, TV Shows, Made for TV Movies, etc.\n",
    "\n",
    "- Overview/Data Dictionary: https://www.imdb.com/interfaces/\n",
    "- Downloads page: https://datasets.imdbws.com/\n",
    "\n",
    "**From their previous research, they realized they want to focus on the following files:**\n",
    "\n",
    "- title.basics.tsv.gz\n",
    "- title.ratings.tsv.gz\n",
    "- title.akas.tsv.gz"
   ]
  },
  {
   "cell_type": "markdown",
   "id": "8ba99edf",
   "metadata": {},
   "source": [
    "### **Specifications**"
   ]
  },
  {
   "cell_type": "markdown",
   "id": "52c7f96b",
   "metadata": {},
   "source": [
    "The stakeholder only wants information included for movies based on the following specifications:\n",
    "\n",
    "- Exclude any movie with missing values for genre or runtime\n",
    "- Include only full-length movies (titleType = \"movie\").\n",
    "- Include only fictional movies (not from documentary genre)\n",
    "- Include only movies that were released 2000 - 2021 (include 2000 and 2021)\n",
    "- Include only movies that were released in the United States"
   ]
  }
 ],
 "metadata": {
  "kernelspec": {
   "display_name": "Python 3 (ipykernel)",
   "language": "python",
   "name": "python3"
  },
  "language_info": {
   "codemirror_mode": {
    "name": "ipython",
    "version": 3
   },
   "file_extension": ".py",
   "mimetype": "text/x-python",
   "name": "python",
   "nbconvert_exporter": "python",
   "pygments_lexer": "ipython3",
   "version": "3.7.12"
  },
  "toc": {
   "base_numbering": 1,
   "nav_menu": {},
   "number_sections": false,
   "sideBar": true,
   "skip_h1_title": true,
   "title_cell": "Table of Contents",
   "title_sidebar": "Contents",
   "toc_cell": false,
   "toc_position": {},
   "toc_section_display": true,
   "toc_window_display": true
  }
 },
 "nbformat": 4,
 "nbformat_minor": 5
}
