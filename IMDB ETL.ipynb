{
 "cells": [
  {
   "cell_type": "markdown",
   "id": "20650815",
   "metadata": {},
   "source": [
    "# **Movie Production Business Analysis - IMDB ETL**"
   ]
  },
  {
   "cell_type": "markdown",
   "id": "7f433c19",
   "metadata": {},
   "source": [
    "- Yvon Bilodeau\n",
    "- May 2022"
   ]
  },
  {
   "cell_type": "markdown",
   "id": "20f2c7ae",
   "metadata": {},
   "source": [
    "## **Business Problem**\n",
    "\n",
    "For this project, you have been hired to produce a MySQL database on Movies from a subset of IMDB's publicly available dataset. Ultimately, you will use this database to analyze what makes a movie successful and will provide recommendations to the stakeholder on how to make a successful movie.\n"
   ]
  },
  {
   "cell_type": "markdown",
   "id": "7cbc811e",
   "metadata": {},
   "source": [
    "## **The Data**"
   ]
  },
  {
   "cell_type": "markdown",
   "id": "0762117d",
   "metadata": {},
   "source": [
    "IMDB Provides Several Files with varied information for Movies, TV Shows, Made for TV Movies, etc.\n",
    "\n",
    "Overview/Data Dictionary: [https://www.imdb.com/interfaces/](https://www.imdb.com/interfaces/)\n",
    "\n",
    "Downloads page: [https://datasets.imdbws.com/](https://datasets.imdbws.com/)\n",
    "        \n",
    "From their previous research, they realized they want to focus on the following files:\n",
    "\n",
    "- title.basics.tsv.gz\n",
    "- title.ratings.tsv.gz\n",
    "- title.akas.tsv.gz"
   ]
  },
  {
   "cell_type": "markdown",
   "id": "e5cc62ca",
   "metadata": {},
   "source": [
    "### **Specifications**"
   ]
  },
  {
   "cell_type": "markdown",
   "id": "3c99b5f3",
   "metadata": {},
   "source": [
    "Your stakeholder only wants you to include information for movies based on the following specifications:\n",
    "\n",
    "- Exclude any movie with missing values for genre or runtime\n",
    "- Include only full-length movies (titleType = \"movie\").\n",
    "- Include only fictional movies (not from documentary genre)\n",
    "- Include only movies that were released 2000 - 2021 (include 2000 and 2021)\n",
    "- Include only movies that were released in the United States"
   ]
  },
  {
   "cell_type": "markdown",
   "id": "3367fc13",
   "metadata": {},
   "source": [
    "### **Download**"
   ]
  },
  {
   "cell_type": "code",
   "execution_count": 1,
   "id": "fd132fda",
   "metadata": {},
   "outputs": [],
   "source": [
    "# Create url variables\n",
    "basics_url = \"https://datasets.imdbws.com/title.basics.tsv.gz\"\n",
    "ratings_url =\"https://datasets.imdbws.com/title.ratings.tsv.gz\"\n",
    "akas_url = \"https://datasets.imdbws.com/title.akas.tsv.gz\"\n",
    "#akas_url = \"C:\\Users\\DELL\\Downloads\\title.akas.tsv.gz\""
   ]
  },
  {
   "cell_type": "markdown",
   "id": "09fdb78b",
   "metadata": {},
   "source": [
    "### **Preprocessing**"
   ]
  },
  {
   "cell_type": "code",
   "execution_count": 2,
   "id": "df7fe85f",
   "metadata": {},
   "outputs": [],
   "source": [
    "import numpy as np\n",
    "import pandas as pd\n",
    "import os"
   ]
  },
  {
   "cell_type": "markdown",
   "id": "1ae45a51",
   "metadata": {},
   "source": [
    "#### **Title Basics**"
   ]
  },
  {
   "cell_type": "code",
   "execution_count": null,
   "id": "6b301d06",
   "metadata": {},
   "outputs": [],
   "source": [
    "# Create dataframe\n",
    "basics_df = pd.read_csv(basics_url,sep='\\t', low_memory=False)"
   ]
  },
  {
   "cell_type": "markdown",
   "id": "191fa9a8",
   "metadata": {},
   "source": [
    "- Replace \"\\N\" with np.nan\n",
    "- Eliminate movies that are null for runtimeMinutes\n",
    "- Eliminate movies that are null for genre\n",
    "- Keep only titleType==Movie\n",
    "- Keep startYear 2000-2022\n",
    "- Eliminate movies that include  \"Documentary\" in genre"
   ]
  },
  {
   "cell_type": "code",
   "execution_count": null,
   "id": "fb2018d8",
   "metadata": {
    "scrolled": false
   },
   "outputs": [],
   "source": [
    "basics_df.head()"
   ]
  },
  {
   "cell_type": "code",
   "execution_count": null,
   "id": "73ea15b5",
   "metadata": {
    "scrolled": true
   },
   "outputs": [],
   "source": [
    "# Replace \"\\N\" with np.nan\n",
    "basics_df.replace({'\\\\N':np.nan},inplace=True)"
   ]
  },
  {
   "cell_type": "code",
   "execution_count": null,
   "id": "4ae64e44",
   "metadata": {
    "scrolled": true
   },
   "outputs": [],
   "source": [
    "basics_df.head()"
   ]
  },
  {
   "cell_type": "code",
   "execution_count": null,
   "id": "c8f9c55b",
   "metadata": {},
   "outputs": [],
   "source": [
    "# Eliminate movies that are null for runtimeMinutes\n",
    "basics_df = basics_df.dropna(subset = ['runtimeMinutes', 'genres', 'startYear'])"
   ]
  },
  {
   "cell_type": "code",
   "execution_count": null,
   "id": "7bc7710e",
   "metadata": {
    "scrolled": true
   },
   "outputs": [],
   "source": [
    "# Keep only titleType == Movie\n",
    "basics_df = basics_df.loc[basics_df['titleType'] == 'movie']"
   ]
  },
  {
   "cell_type": "code",
   "execution_count": null,
   "id": "bbcc43f6",
   "metadata": {
    "scrolled": true
   },
   "outputs": [],
   "source": [
    "basics_df.head(20)"
   ]
  },
  {
   "cell_type": "code",
   "execution_count": null,
   "id": "e08146ef",
   "metadata": {},
   "outputs": [],
   "source": [
    "# Keep startYear 2000-2022\n",
    "basics_df['startYear'] = basics_df['startYear'].astype(int)\n",
    "basics_df = basics_df.loc[(basics_df['startYear'] >= 2000) & (basics_df['startYear'] <=2021)]"
   ]
  },
  {
   "cell_type": "code",
   "execution_count": null,
   "id": "36f4acf3",
   "metadata": {},
   "outputs": [],
   "source": [
    "basics_df.head()"
   ]
  },
  {
   "cell_type": "code",
   "execution_count": null,
   "id": "1af27b54",
   "metadata": {},
   "outputs": [],
   "source": [
    "# Eliminate movies that include \"Documentary\" in genre\n",
    "documentary_filter = basics_df['genres'].str.contains('documentary', case=False)\n",
    "basics_df = basics_df[~documentary_filter]"
   ]
  },
  {
   "cell_type": "code",
   "execution_count": null,
   "id": "20d3abfa",
   "metadata": {
    "scrolled": true
   },
   "outputs": [],
   "source": [
    "basics_df.head(20)"
   ]
  },
  {
   "cell_type": "code",
   "execution_count": null,
   "id": "b5300402",
   "metadata": {},
   "outputs": [],
   "source": [
    "# Make directory\n",
    "os.makedirs('Data/',exist_ok=True) "
   ]
  },
  {
   "cell_type": "code",
   "execution_count": null,
   "id": "f91ea680",
   "metadata": {},
   "outputs": [],
   "source": [
    "# Confirm directory created\n",
    "os.listdir(\"Data/\")"
   ]
  },
  {
   "cell_type": "code",
   "execution_count": null,
   "id": "d5a583e2",
   "metadata": {},
   "outputs": [],
   "source": [
    "## Save dataframe to file\n",
    "basics_df.to_csv(\"Data/title_basics.csv.gz\", compression='gzip', index=False)"
   ]
  },
  {
   "cell_type": "code",
   "execution_count": null,
   "id": "f12293d1",
   "metadata": {},
   "outputs": [],
   "source": [
    "# Open saved file and preview again\n",
    "basics_df = pd.read_csv(\"Data/title_basics.csv.gz\", low_memory=False)\n",
    "basics_df.head()"
   ]
  },
  {
   "cell_type": "code",
   "execution_count": null,
   "id": "96597141",
   "metadata": {},
   "outputs": [],
   "source": [
    "del basics_df"
   ]
  },
  {
   "cell_type": "markdown",
   "id": "277fdca6",
   "metadata": {},
   "source": [
    "#### **Title Ratings**"
   ]
  },
  {
   "cell_type": "markdown",
   "id": "a14e83d4",
   "metadata": {},
   "source": [
    "- Keep only US entries.\n",
    "- Replace \"\\N\" with np.nan"
   ]
  },
  {
   "cell_type": "code",
   "execution_count": null,
   "id": "3ba1969c",
   "metadata": {},
   "outputs": [],
   "source": [
    "# Create dataframe\n",
    "ratings_df = pd.read_csv(ratings_url,sep='\\t', low_memory=False)"
   ]
  },
  {
   "cell_type": "code",
   "execution_count": null,
   "id": "ce534fa3",
   "metadata": {},
   "outputs": [],
   "source": [
    "ratings_df.head()"
   ]
  },
  {
   "cell_type": "code",
   "execution_count": null,
   "id": "662df5ce",
   "metadata": {},
   "outputs": [],
   "source": [
    "# Replace \"\\N\" with np.nan\n",
    "ratings_df.replace({'\\\\N':np.nan},inplace=True)"
   ]
  },
  {
   "cell_type": "code",
   "execution_count": null,
   "id": "82070dd5",
   "metadata": {},
   "outputs": [],
   "source": [
    "ratings_df.info()"
   ]
  },
  {
   "cell_type": "code",
   "execution_count": null,
   "id": "76be5a08",
   "metadata": {},
   "outputs": [],
   "source": [
    "## Save dataframe to file\n",
    "ratings_df.to_csv(\"Data/title_ratings.csv.gz\", compression='gzip', index=False)"
   ]
  },
  {
   "cell_type": "code",
   "execution_count": null,
   "id": "92cde7d9",
   "metadata": {},
   "outputs": [],
   "source": [
    "# Open saved file and preview again\n",
    "ratings_df = pd.read_csv(\"Data/title_ratings.csv.gz\", low_memory=False)\n",
    "ratings_df.head()"
   ]
  },
  {
   "cell_type": "code",
   "execution_count": null,
   "id": "057948f2",
   "metadata": {},
   "outputs": [],
   "source": [
    "del ratings_df"
   ]
  },
  {
   "cell_type": "markdown",
   "id": "a8f1cc26",
   "metadata": {},
   "source": [
    "#### **Title Akas**"
   ]
  },
  {
   "cell_type": "markdown",
   "id": "2686fb9c",
   "metadata": {},
   "source": [
    "- Replace \"\\N\" with np.nan (if any)"
   ]
  },
  {
   "cell_type": "code",
   "execution_count": 3,
   "id": "878cbedb",
   "metadata": {
    "scrolled": false
   },
   "outputs": [
    {
     "name": "stderr",
     "output_type": "stream",
     "text": [
      "C:\\Users\\DELL\\anaconda3\\envs\\dojo-env\\lib\\site-packages\\IPython\\core\\interactiveshell.py:3524: DtypeWarning: Columns (7) have mixed types.Specify dtype option on import or set low_memory=False.\n",
      "  exec(code_obj, self.user_global_ns, self.user_ns)\n"
     ]
    }
   ],
   "source": [
    "# Create dataframe # chunksize creates an iterator\n",
    "dl_file = \"C:/Users/DELL/Downloads/title.akas.tsv.gz\"\n",
    "#akas_df = pd.read_csv(dl_file,sep='\\t', low_memory=True, chunksize=100000)\n",
    "akas_df = pd.read_csv(dl_file,sep='\\t', low_memory=True)"
   ]
  },
  {
   "cell_type": "code",
   "execution_count": 4,
   "id": "07751e11",
   "metadata": {},
   "outputs": [
    {
     "data": {
      "text/html": [
       "<div>\n",
       "<style scoped>\n",
       "    .dataframe tbody tr th:only-of-type {\n",
       "        vertical-align: middle;\n",
       "    }\n",
       "\n",
       "    .dataframe tbody tr th {\n",
       "        vertical-align: top;\n",
       "    }\n",
       "\n",
       "    .dataframe thead th {\n",
       "        text-align: right;\n",
       "    }\n",
       "</style>\n",
       "<table border=\"1\" class=\"dataframe\">\n",
       "  <thead>\n",
       "    <tr style=\"text-align: right;\">\n",
       "      <th></th>\n",
       "      <th>titleId</th>\n",
       "      <th>ordering</th>\n",
       "      <th>title</th>\n",
       "      <th>region</th>\n",
       "      <th>language</th>\n",
       "      <th>types</th>\n",
       "      <th>attributes</th>\n",
       "      <th>isOriginalTitle</th>\n",
       "    </tr>\n",
       "  </thead>\n",
       "  <tbody>\n",
       "    <tr>\n",
       "      <th>0</th>\n",
       "      <td>tt0000001</td>\n",
       "      <td>1</td>\n",
       "      <td>Карменсіта</td>\n",
       "      <td>UA</td>\n",
       "      <td>\\N</td>\n",
       "      <td>imdbDisplay</td>\n",
       "      <td>\\N</td>\n",
       "      <td>0</td>\n",
       "    </tr>\n",
       "    <tr>\n",
       "      <th>1</th>\n",
       "      <td>tt0000001</td>\n",
       "      <td>2</td>\n",
       "      <td>Carmencita</td>\n",
       "      <td>DE</td>\n",
       "      <td>\\N</td>\n",
       "      <td>\\N</td>\n",
       "      <td>literal title</td>\n",
       "      <td>0</td>\n",
       "    </tr>\n",
       "    <tr>\n",
       "      <th>2</th>\n",
       "      <td>tt0000001</td>\n",
       "      <td>3</td>\n",
       "      <td>Carmencita - spanyol tánc</td>\n",
       "      <td>HU</td>\n",
       "      <td>\\N</td>\n",
       "      <td>imdbDisplay</td>\n",
       "      <td>\\N</td>\n",
       "      <td>0</td>\n",
       "    </tr>\n",
       "    <tr>\n",
       "      <th>3</th>\n",
       "      <td>tt0000001</td>\n",
       "      <td>4</td>\n",
       "      <td>Καρμενσίτα</td>\n",
       "      <td>GR</td>\n",
       "      <td>\\N</td>\n",
       "      <td>imdbDisplay</td>\n",
       "      <td>\\N</td>\n",
       "      <td>0</td>\n",
       "    </tr>\n",
       "    <tr>\n",
       "      <th>4</th>\n",
       "      <td>tt0000001</td>\n",
       "      <td>5</td>\n",
       "      <td>Карменсита</td>\n",
       "      <td>RU</td>\n",
       "      <td>\\N</td>\n",
       "      <td>imdbDisplay</td>\n",
       "      <td>\\N</td>\n",
       "      <td>0</td>\n",
       "    </tr>\n",
       "  </tbody>\n",
       "</table>\n",
       "</div>"
      ],
      "text/plain": [
       "     titleId  ordering                      title region language  \\\n",
       "0  tt0000001         1                 Карменсіта     UA       \\N   \n",
       "1  tt0000001         2                 Carmencita     DE       \\N   \n",
       "2  tt0000001         3  Carmencita - spanyol tánc     HU       \\N   \n",
       "3  tt0000001         4                 Καρμενσίτα     GR       \\N   \n",
       "4  tt0000001         5                 Карменсита     RU       \\N   \n",
       "\n",
       "         types     attributes isOriginalTitle  \n",
       "0  imdbDisplay             \\N               0  \n",
       "1           \\N  literal title               0  \n",
       "2  imdbDisplay             \\N               0  \n",
       "3  imdbDisplay             \\N               0  \n",
       "4  imdbDisplay             \\N               0  "
      ]
     },
     "execution_count": 4,
     "metadata": {},
     "output_type": "execute_result"
    }
   ],
   "source": [
    "akas_df.head()"
   ]
  },
  {
   "cell_type": "code",
   "execution_count": 5,
   "id": "a8f59ea6",
   "metadata": {},
   "outputs": [],
   "source": [
    "# Replace \"\\N\" with np.nan\n",
    "akas_df.replace({'\\\\N':np.nan},inplace=True)"
   ]
  },
  {
   "cell_type": "code",
   "execution_count": 6,
   "id": "cae0e67c",
   "metadata": {},
   "outputs": [
    {
     "name": "stdout",
     "output_type": "stream",
     "text": [
      "<class 'pandas.core.frame.DataFrame'>\n",
      "RangeIndex: 31775238 entries, 0 to 31775237\n",
      "Data columns (total 8 columns):\n",
      " #   Column           Dtype \n",
      "---  ------           ----- \n",
      " 0   titleId          object\n",
      " 1   ordering         int64 \n",
      " 2   title            object\n",
      " 3   region           object\n",
      " 4   language         object\n",
      " 5   types            object\n",
      " 6   attributes       object\n",
      " 7   isOriginalTitle  object\n",
      "dtypes: int64(1), object(7)\n",
      "memory usage: 1.9+ GB\n"
     ]
    }
   ],
   "source": [
    "akas_df.info()"
   ]
  },
  {
   "cell_type": "code",
   "execution_count": 7,
   "id": "92a8e4c4",
   "metadata": {},
   "outputs": [],
   "source": [
    "## Save dataframe to file\n",
    "akas_df.to_csv(\"Data/title_akas.csv.gz\", compression='gzip', index=False)"
   ]
  },
  {
   "cell_type": "code",
   "execution_count": 9,
   "id": "75c71227",
   "metadata": {
    "scrolled": true
   },
   "outputs": [
    {
     "name": "stderr",
     "output_type": "stream",
     "text": [
      "C:\\Users\\DELL\\anaconda3\\envs\\dojo-env\\lib\\site-packages\\IPython\\core\\interactiveshell.py:3524: DtypeWarning: Columns (6) have mixed types.Specify dtype option on import or set low_memory=False.\n",
      "  exec(code_obj, self.user_global_ns, self.user_ns)\n"
     ]
    },
    {
     "data": {
      "text/html": [
       "<div>\n",
       "<style scoped>\n",
       "    .dataframe tbody tr th:only-of-type {\n",
       "        vertical-align: middle;\n",
       "    }\n",
       "\n",
       "    .dataframe tbody tr th {\n",
       "        vertical-align: top;\n",
       "    }\n",
       "\n",
       "    .dataframe thead th {\n",
       "        text-align: right;\n",
       "    }\n",
       "</style>\n",
       "<table border=\"1\" class=\"dataframe\">\n",
       "  <thead>\n",
       "    <tr style=\"text-align: right;\">\n",
       "      <th></th>\n",
       "      <th>titleId</th>\n",
       "      <th>ordering</th>\n",
       "      <th>title</th>\n",
       "      <th>region</th>\n",
       "      <th>language</th>\n",
       "      <th>types</th>\n",
       "      <th>attributes</th>\n",
       "      <th>isOriginalTitle</th>\n",
       "    </tr>\n",
       "  </thead>\n",
       "  <tbody>\n",
       "    <tr>\n",
       "      <th>0</th>\n",
       "      <td>tt0000001</td>\n",
       "      <td>1</td>\n",
       "      <td>Карменсіта</td>\n",
       "      <td>UA</td>\n",
       "      <td>NaN</td>\n",
       "      <td>imdbDisplay</td>\n",
       "      <td>NaN</td>\n",
       "      <td>0.0</td>\n",
       "    </tr>\n",
       "    <tr>\n",
       "      <th>1</th>\n",
       "      <td>tt0000001</td>\n",
       "      <td>2</td>\n",
       "      <td>Carmencita</td>\n",
       "      <td>DE</td>\n",
       "      <td>NaN</td>\n",
       "      <td>NaN</td>\n",
       "      <td>literal title</td>\n",
       "      <td>0.0</td>\n",
       "    </tr>\n",
       "    <tr>\n",
       "      <th>2</th>\n",
       "      <td>tt0000001</td>\n",
       "      <td>3</td>\n",
       "      <td>Carmencita - spanyol tánc</td>\n",
       "      <td>HU</td>\n",
       "      <td>NaN</td>\n",
       "      <td>imdbDisplay</td>\n",
       "      <td>NaN</td>\n",
       "      <td>0.0</td>\n",
       "    </tr>\n",
       "    <tr>\n",
       "      <th>3</th>\n",
       "      <td>tt0000001</td>\n",
       "      <td>4</td>\n",
       "      <td>Καρμενσίτα</td>\n",
       "      <td>GR</td>\n",
       "      <td>NaN</td>\n",
       "      <td>imdbDisplay</td>\n",
       "      <td>NaN</td>\n",
       "      <td>0.0</td>\n",
       "    </tr>\n",
       "    <tr>\n",
       "      <th>4</th>\n",
       "      <td>tt0000001</td>\n",
       "      <td>5</td>\n",
       "      <td>Карменсита</td>\n",
       "      <td>RU</td>\n",
       "      <td>NaN</td>\n",
       "      <td>imdbDisplay</td>\n",
       "      <td>NaN</td>\n",
       "      <td>0.0</td>\n",
       "    </tr>\n",
       "  </tbody>\n",
       "</table>\n",
       "</div>"
      ],
      "text/plain": [
       "     titleId  ordering                      title region language  \\\n",
       "0  tt0000001         1                 Карменсіта     UA      NaN   \n",
       "1  tt0000001         2                 Carmencita     DE      NaN   \n",
       "2  tt0000001         3  Carmencita - spanyol tánc     HU      NaN   \n",
       "3  tt0000001         4                 Καρμενσίτα     GR      NaN   \n",
       "4  tt0000001         5                 Карменсита     RU      NaN   \n",
       "\n",
       "         types     attributes  isOriginalTitle  \n",
       "0  imdbDisplay            NaN              0.0  \n",
       "1          NaN  literal title              0.0  \n",
       "2  imdbDisplay            NaN              0.0  \n",
       "3  imdbDisplay            NaN              0.0  \n",
       "4  imdbDisplay            NaN              0.0  "
      ]
     },
     "execution_count": 9,
     "metadata": {},
     "output_type": "execute_result"
    }
   ],
   "source": [
    "# Open saved file and preview again\n",
    "akas_df = pd.read_csv(\"Data/title_akas.csv.gz\", low_memory=True)\n",
    "akas_df.head()"
   ]
  },
  {
   "cell_type": "code",
   "execution_count": null,
   "id": "db212243",
   "metadata": {
    "scrolled": true
   },
   "outputs": [],
   "source": [
    "# # 31,775,237\n",
    "# for df in akas_df:\n",
    "#     display(df.head(), df.tail())"
   ]
  },
  {
   "cell_type": "code",
   "execution_count": null,
   "id": "aaa97fff",
   "metadata": {
    "scrolled": true
   },
   "outputs": [],
   "source": [
    "akas_df.f"
   ]
  },
  {
   "cell_type": "code",
   "execution_count": null,
   "id": "e429d79a",
   "metadata": {},
   "outputs": [],
   "source": []
  },
  {
   "cell_type": "code",
   "execution_count": null,
   "id": "b042b626",
   "metadata": {
    "scrolled": false
   },
   "outputs": [],
   "source": [
    "df = akas_df.get_chunk()\n",
    "df"
   ]
  },
  {
   "cell_type": "code",
   "execution_count": null,
   "id": "c1ac68cc",
   "metadata": {},
   "outputs": [],
   "source": [
    "# Replace \"\\N\" with np.nan\n",
    "akas_df.replace({'\\\\N':np.nan},inplace=True)"
   ]
  },
  {
   "cell_type": "code",
   "execution_count": null,
   "id": "0bd4250a",
   "metadata": {},
   "outputs": [],
   "source": [
    "df.to_csv(\"data/test_akas.csv.gz\", compression=\"gzip\", index=False, mode=\"a\")"
   ]
  },
  {
   "cell_type": "code",
   "execution_count": null,
   "id": "44aa62b3",
   "metadata": {},
   "outputs": [],
   "source": [
    "df=akas_df.get_chunk()\n",
    "df.to_csv(\"data/test_akas.csv.gz\", compression=\"gzip\", index=False, mode=\"a\")"
   ]
  },
  {
   "cell_type": "code",
   "execution_count": null,
   "id": "fabdf7d0",
   "metadata": {},
   "outputs": [],
   "source": [
    "df=pd.read_csv(\"data/test_akas.csv.gz\")\n",
    "df"
   ]
  },
  {
   "cell_type": "code",
   "execution_count": null,
   "id": "e50ce59b",
   "metadata": {},
   "outputs": [],
   "source": [
    "# Save dataframe to file\n",
    "akas_df.to_csv(\"Data/title_akas.csv.gz\", compression='gzip', index=False)"
   ]
  },
  {
   "cell_type": "code",
   "execution_count": null,
   "id": "025e5b73",
   "metadata": {},
   "outputs": [],
   "source": [
    "# Open saved file and preview again\n",
    "akas_df = pd.read_csv(\"Data/title_akas.csv.gz\", low_memory=False)\n",
    "akas_df.head()"
   ]
  },
  {
   "cell_type": "code",
   "execution_count": null,
   "id": "d3f10571",
   "metadata": {},
   "outputs": [],
   "source": [
    "# Open saved file and preview again\n",
    "# basics_df = pd.read_csv(\"Data/title_basics.csv.gz\", low_memory=False)\n",
    "# basics_df.head()"
   ]
  },
  {
   "cell_type": "code",
   "execution_count": null,
   "id": "9bb2815e",
   "metadata": {},
   "outputs": [],
   "source": [
    "# Filter the basics table down to only include the US by using the filter akas dataframe\n",
    "#keepers = basics_df['tconst'].isin(akas_df['titleId'])\n",
    "#keepers"
   ]
  },
  {
   "cell_type": "code",
   "execution_count": null,
   "id": "247a14fe",
   "metadata": {},
   "outputs": [],
   "source": [
    "#basics_df = basics_df[keepers]\n",
    "#basics_df"
   ]
  }
 ],
 "metadata": {
  "kernelspec": {
   "display_name": "Python (dojo-env)",
   "language": "python",
   "name": "dojo-env"
  },
  "language_info": {
   "codemirror_mode": {
    "name": "ipython",
    "version": 3
   },
   "file_extension": ".py",
   "mimetype": "text/x-python",
   "name": "python",
   "nbconvert_exporter": "python",
   "pygments_lexer": "ipython3",
   "version": "3.7.12"
  },
  "toc": {
   "base_numbering": 1,
   "nav_menu": {},
   "number_sections": true,
   "sideBar": true,
   "skip_h1_title": false,
   "title_cell": "Table of Contents",
   "title_sidebar": "Contents",
   "toc_cell": false,
   "toc_position": {
    "height": "calc(100% - 180px)",
    "left": "10px",
    "top": "150px",
    "width": "273.188px"
   },
   "toc_section_display": true,
   "toc_window_display": false
  }
 },
 "nbformat": 4,
 "nbformat_minor": 5
}
